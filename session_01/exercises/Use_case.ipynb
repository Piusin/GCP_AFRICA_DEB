{
  "nbformat": 4,
  "nbformat_minor": 0,
  "metadata": {
    "colab": {
      "provenance": []
    },
    "kernelspec": {
      "name": "python3",
      "display_name": "Python 3"
    },
    "language_info": {
      "name": "python"
    }
  },
  "cells": [
    {
      "cell_type": "code",
      "execution_count": null,
      "metadata": {
        "id": "cuI3UBLe4Tnq"
      },
      "outputs": [],
      "source": [
        "import os\n",
        "import csv\n",
        "import sqlite3\n",
        "import subprocess as sp\n",
        "\n",
        "os.chdir(os.getenv('HOME'))\n",
        "\n",
        "# Retrieving data\n",
        "sp.run([\"unzip\", \"master.zip\"], check=True)\n",
        "os.chdir('tennis_atp-master')\n",
        "\n",
        "def get_files_list(files, pattern):\n",
        "    ''' This function allows you to get the list of files to ingest '''\n",
        "\n",
        "    files_known = []\n",
        "    for file in files:\n",
        "        if file.startswith(pattern):\n",
        "            files_known.append(file)\n",
        "\n",
        "    return files_known\n",
        "\n",
        "\n",
        "atp_matches = []\n",
        "\n",
        "for file in files_to_process:\n",
        "    with open(file, 'r') as atp_file:\n",
        "        csv_reader = csv.reader(atp_file)\n",
        "        atp_matches.extend(list(csv_reader))\n",
        "\n",
        "new_atp_matches = []\n",
        "\n",
        "for item in atp_matches:\n",
        "    new_atp_matches.append(item[0:9])\n",
        "\n",
        "with open('all_matches.csv', 'w', newline='') as f:\n",
        "    writer = csv.writer(f)\n",
        "    writer.writerows(new_atp_matches)\n",
        "\n",
        "database = '/home/user/tennis_atp.db'\n",
        "conn = sqlite3.connect(database)\n",
        "cur = conn.cursor()\n",
        "cur.execute(\"\"\"CREATE TABLE IF NOT EXISTS atp_matches (tourney_id text, tourney_name text, surface text, draw_size integer,\n",
        "    tourney_level text, tourney_date integer, match_num integer, filename text, time_stamp text)\"\"\")\n",
        "conn.commit()"
      ]
    }
  ]
}