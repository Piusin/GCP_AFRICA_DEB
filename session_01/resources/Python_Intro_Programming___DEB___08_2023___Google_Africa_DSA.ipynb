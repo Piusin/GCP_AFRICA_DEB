{
  "cells": [
    {
      "cell_type": "markdown",
      "metadata": {
        "id": "oItpdcha9oR6"
      },
      "source": [
        "# Data Types"
      ]
    },
    {
      "cell_type": "code",
      "execution_count": null,
      "metadata": {
        "id": "VjBo5j389ZVf"
      },
      "outputs": [],
      "source": [
        "print(type(10))"
      ]
    },
    {
      "cell_type": "code",
      "execution_count": null,
      "metadata": {
        "id": "AZlIQIFG-Ecq"
      },
      "outputs": [],
      "source": [
        "print(type(3.1416))"
      ]
    },
    {
      "cell_type": "code",
      "execution_count": null,
      "metadata": {
        "id": "pHhBcRn6-IGI"
      },
      "outputs": [],
      "source": [
        "print(type(1+1j))"
      ]
    },
    {
      "cell_type": "code",
      "execution_count": null,
      "metadata": {
        "id": "YH3VojAO-NII"
      },
      "outputs": [],
      "source": [
        "print(type(\"Welcome to the DE Bootcamp\"))"
      ]
    },
    {
      "cell_type": "code",
      "execution_count": null,
      "metadata": {
        "id": "BfLhfNmv-Snj"
      },
      "outputs": [],
      "source": [
        "print(type(True))"
      ]
    },
    {
      "cell_type": "code",
      "execution_count": null,
      "metadata": {
        "id": "CKiOBu5L-Vyv"
      },
      "outputs": [],
      "source": [
        "print(type([\"one\", \"two\", \"three\", 1, 2, 3.0]))"
      ]
    },
    {
      "cell_type": "code",
      "execution_count": null,
      "metadata": {
        "id": "WMTBTunN-j6H"
      },
      "outputs": [],
      "source": [
        "print(type((10, 20.0, \"ten\", \"twenty\")))"
      ]
    },
    {
      "cell_type": "code",
      "execution_count": null,
      "metadata": {
        "id": "FotOo_RU-vfP"
      },
      "outputs": [],
      "source": [
        "print(type({'name': 'Dan', 'country':'CO', 'dept':'data'}))"
      ]
    },
    {
      "cell_type": "markdown",
      "metadata": {
        "id": "lDD0I_lhBE65"
      },
      "source": [
        "# Operators"
      ]
    },
    {
      "cell_type": "markdown",
      "metadata": {
        "id": "9yE2JvQQB73c"
      },
      "source": [
        "### Assigment Operators"
      ]
    },
    {
      "cell_type": "code",
      "execution_count": null,
      "metadata": {
        "id": "dnnvc2WOB-js"
      },
      "outputs": [],
      "source": [
        "x = 10\n",
        "print(x)"
      ]
    },
    {
      "cell_type": "code",
      "execution_count": null,
      "metadata": {
        "id": "ORODcWOJCAnR"
      },
      "outputs": [],
      "source": [
        "y = \"Hello\"\n",
        "print(y)"
      ]
    },
    {
      "cell_type": "markdown",
      "metadata": {
        "id": "nK5JcUEdBoOO"
      },
      "source": [
        "### Arithmetic Operators"
      ]
    },
    {
      "cell_type": "code",
      "execution_count": null,
      "metadata": {
        "id": "QSAXBnJ4BJUf"
      },
      "outputs": [],
      "source": [
        "a = 1+1 # Addition\n",
        "print(a)"
      ]
    },
    {
      "cell_type": "code",
      "execution_count": null,
      "metadata": {
        "id": "gWXfjz1tBOwr"
      },
      "outputs": [],
      "source": [
        "b = 2-1 # Subtraction\n",
        "print(b)"
      ]
    },
    {
      "cell_type": "code",
      "execution_count": null,
      "metadata": {
        "id": "R0TtlkimBQEG"
      },
      "outputs": [],
      "source": [
        "c = 2*2 # Multiplication\n",
        "print(c)"
      ]
    },
    {
      "cell_type": "code",
      "execution_count": null,
      "metadata": {
        "id": "2CingxfqBReu"
      },
      "outputs": [],
      "source": [
        "d = 4/2 # Division\n",
        "print(d)"
      ]
    },
    {
      "cell_type": "code",
      "execution_count": null,
      "metadata": {
        "id": "Kg9nppbkBTU3"
      },
      "outputs": [],
      "source": [
        "e = 4 % 3 # Modulus (remainder)\n",
        "print(e)"
      ]
    },
    {
      "cell_type": "code",
      "execution_count": null,
      "metadata": {
        "id": "28M6OxlPBWOX"
      },
      "outputs": [],
      "source": [
        "f = 4**2 # Exponentiation\n",
        "print(f)"
      ]
    },
    {
      "cell_type": "markdown",
      "metadata": {
        "id": "C6XhhhJsDK2J"
      },
      "source": [
        "### Comparison Operators"
      ]
    },
    {
      "cell_type": "code",
      "execution_count": null,
      "metadata": {
        "id": "wXG5lX8tDOhx"
      },
      "outputs": [],
      "source": [
        "x = 10\n",
        "y = 5"
      ]
    },
    {
      "cell_type": "code",
      "execution_count": null,
      "metadata": {
        "id": "COxLS1YDDY9x"
      },
      "outputs": [],
      "source": [
        "# Equal to\n",
        "result1 = x == y\n",
        "print(result1)"
      ]
    },
    {
      "cell_type": "code",
      "execution_count": null,
      "metadata": {
        "id": "BnyOwsmTDa7J"
      },
      "outputs": [],
      "source": [
        "# Not equal to\n",
        "result2 = x != y\n",
        "print(result2)"
      ]
    },
    {
      "cell_type": "code",
      "execution_count": null,
      "metadata": {
        "id": "0djRe6NMDc7j"
      },
      "outputs": [],
      "source": [
        "# Greater than\n",
        "result3 = x > y\n",
        "print(result3)"
      ]
    },
    {
      "cell_type": "code",
      "execution_count": null,
      "metadata": {
        "id": "Yb4F7QhkDemZ"
      },
      "outputs": [],
      "source": [
        "# Less than\n",
        "result4 = x < y\n",
        "print(result4)"
      ]
    },
    {
      "cell_type": "code",
      "execution_count": null,
      "metadata": {
        "id": "mL3aGY_kDhRB"
      },
      "outputs": [],
      "source": [
        "# Greater than or equal to\n",
        "result5 = x >= y\n",
        "print(result5)"
      ]
    },
    {
      "cell_type": "code",
      "execution_count": null,
      "metadata": {
        "id": "QT4WcIwmDjW-"
      },
      "outputs": [],
      "source": [
        "# Less than or equal to\n",
        "result6 = x <= y\n",
        "print(result6)"
      ]
    },
    {
      "cell_type": "markdown",
      "metadata": {
        "id": "7zVQDO36Eh1h"
      },
      "source": [
        "### Logical Operators"
      ]
    },
    {
      "cell_type": "code",
      "execution_count": null,
      "metadata": {
        "id": "sqgommiPEkfB"
      },
      "outputs": [],
      "source": [
        "p = True\n",
        "q = False"
      ]
    },
    {
      "cell_type": "code",
      "execution_count": null,
      "metadata": {
        "id": "8lhhZoHhE0N2"
      },
      "outputs": [],
      "source": [
        "# Logical AND\n",
        "result_and = p and q\n",
        "print(result_and)"
      ]
    },
    {
      "cell_type": "code",
      "execution_count": null,
      "metadata": {
        "id": "z_SxzUUNE1gR"
      },
      "outputs": [],
      "source": [
        "# Logical OR\n",
        "result_or = p or q\n",
        "print(result_or)"
      ]
    },
    {
      "cell_type": "code",
      "execution_count": null,
      "metadata": {
        "id": "rBwerlFpE2j_"
      },
      "outputs": [],
      "source": [
        "# Logical NOT\n",
        "result_not_p = not p\n",
        "print(result_not_p)"
      ]
    },
    {
      "cell_type": "code",
      "execution_count": null,
      "metadata": {
        "id": "GIR-xgNZFndl"
      },
      "outputs": [],
      "source": [
        "result_not_q = not q\n",
        "print(result_not_q)"
      ]
    },
    {
      "cell_type": "markdown",
      "metadata": {
        "id": "ZWQe0EE9FxN0"
      },
      "source": [
        "### Bitwise Operators"
      ]
    },
    {
      "cell_type": "code",
      "execution_count": null,
      "metadata": {
        "id": "8yX1aIswF0Oc"
      },
      "outputs": [],
      "source": [
        "x = 5  # Binary: 0101\n",
        "y = 3  # Binary: 0011"
      ]
    },
    {
      "cell_type": "code",
      "execution_count": null,
      "metadata": {
        "id": "PN4aPj_EGUL5"
      },
      "outputs": [],
      "source": [
        "# Bitwise AND\n",
        "result_and = x & y  # Binary: 0001 -> Decimal: 1\n",
        "print(result_and)"
      ]
    },
    {
      "cell_type": "code",
      "execution_count": null,
      "metadata": {
        "id": "wZbVn0J-GNvF"
      },
      "outputs": [],
      "source": [
        "# Bitwise OR\n",
        "result_or = x | y  # Binary: 0111 -> Decimal: 7\n",
        "print(result_or)"
      ]
    },
    {
      "cell_type": "code",
      "execution_count": null,
      "metadata": {
        "id": "cvFy3uW3GO9i"
      },
      "outputs": [],
      "source": [
        "# Bitwise XOR\n",
        "result_xor = x ^ y  # Binary: 0110 -> Decimal: 6\n",
        "print(result_xor)"
      ]
    },
    {
      "cell_type": "code",
      "execution_count": null,
      "metadata": {
        "id": "wxYyVndAGQBC"
      },
      "outputs": [],
      "source": [
        "# Bitwise NOT\n",
        "result_not_x = ~x  # Binary: 1010 -> Decimal: -6 (in two's complement)\n",
        "print(result_not_x)"
      ]
    },
    {
      "cell_type": "code",
      "execution_count": null,
      "metadata": {
        "id": "qAJu96n_GROP"
      },
      "outputs": [],
      "source": [
        "# Left Shift\n",
        "result_left_shift = x << 1  # Binary: 1010 -> Decimal: 10\n",
        "print(result_left_shift)"
      ]
    },
    {
      "cell_type": "code",
      "execution_count": null,
      "metadata": {
        "id": "CunBWYLKGSXC"
      },
      "outputs": [],
      "source": [
        "# Right Shift\n",
        "result_right_shift = x >> 1  # Binary: 0010 -> Decimal: 2\n",
        "print(result_right_shift)"
      ]
    },
    {
      "cell_type": "markdown",
      "metadata": {
        "id": "ONJ_1u1jIWjf"
      },
      "source": [
        "# What if ... ?"
      ]
    },
    {
      "cell_type": "code",
      "execution_count": null,
      "metadata": {
        "id": "2aVqe8bqIahi"
      },
      "outputs": [],
      "source": [
        "condition = True\n",
        "\n",
        "if condition == True:\n",
        "  print(\"Inside the if statement\")\n",
        "\n",
        "print(\"Outside the if statement\")"
      ]
    },
    {
      "cell_type": "code",
      "execution_count": null,
      "metadata": {
        "id": "z6098fg7I-kg"
      },
      "outputs": [],
      "source": [
        "condition = True\n",
        "\n",
        "if condition == False:\n",
        "  print(\"Inside the if statement\")\n",
        "else:\n",
        "  print(\"Inside the else statement\")"
      ]
    },
    {
      "cell_type": "code",
      "execution_count": null,
      "metadata": {
        "id": "E7lpzGFyJXdv"
      },
      "outputs": [],
      "source": [
        "condition = True\n",
        "choice = \"eat\"\n",
        "\n",
        "if condition == False:\n",
        "  print(\"Inside the if statement\")\n",
        "elif choice == \"eat\":\n",
        "  print(\"Enjoy your food!\")\n",
        "else:\n",
        "  print(\"Inside the else statement\")"
      ]
    },
    {
      "cell_type": "markdown",
      "metadata": {
        "id": "Twfhgw2XJ3bm"
      },
      "source": [
        "# The (almost) neverending story"
      ]
    },
    {
      "cell_type": "code",
      "execution_count": null,
      "metadata": {
        "id": "vZA1xhjDJ7Fu"
      },
      "outputs": [],
      "source": [
        "items = [\"one\", \"two\", \"three\", \"four\"]"
      ]
    },
    {
      "cell_type": "code",
      "execution_count": null,
      "metadata": {
        "id": "kqu67EYZKZ-d"
      },
      "outputs": [],
      "source": [
        "for item in items:\n",
        "  print(item)"
      ]
    },
    {
      "cell_type": "code",
      "execution_count": null,
      "metadata": {
        "id": "cPCoprxHKaq8"
      },
      "outputs": [],
      "source": [
        "for item in range(4):\n",
        "  print(item)"
      ]
    },
    {
      "cell_type": "code",
      "execution_count": null,
      "metadata": {
        "id": "Kutzff_AKqOU"
      },
      "outputs": [],
      "source": [
        "condition = True\n",
        "while condition == True:\n",
        "  print(\"Inside the loop because is true\")\n",
        "  condition = False\n",
        "\n",
        "print(\"After the loop\")"
      ]
    },
    {
      "cell_type": "code",
      "execution_count": null,
      "metadata": {
        "id": "IUJnSb5TLMsy"
      },
      "outputs": [],
      "source": [
        "count = 0\n",
        "while count < 5:\n",
        "  print(count)\n",
        "  count += 1\n",
        "\n",
        "print(\"count =\", count, \"after the loop\")"
      ]
    },
    {
      "cell_type": "markdown",
      "metadata": {
        "id": "7kiGevuVL1ux"
      },
      "source": [
        "# Functions"
      ]
    },
    {
      "cell_type": "code",
      "execution_count": null,
      "metadata": {
        "id": "zwLVuUMmL3x8"
      },
      "outputs": [],
      "source": [
        "def get_files_list(files, pattern):\n",
        "  files_known =[]\n",
        "  for file in files:\n",
        "    if file.startswith(pattern):\n",
        "      files_known.append(file)\n",
        "  return files_known"
      ]
    },
    {
      "cell_type": "code",
      "execution_count": null,
      "metadata": {
        "id": "sXhxVV10Prrv"
      },
      "outputs": [],
      "source": [
        "file_list = [\"file01.txt\", \"file02.jpg\", \"file03.txt\", \"data.csv\", \"report.pdf\"]\n",
        "pattern = \"file\""
      ]
    },
    {
      "cell_type": "code",
      "execution_count": null,
      "metadata": {
        "id": "yD9kPRq1Px-b"
      },
      "outputs": [],
      "source": [
        "known_files = get_files_list(file_list, pattern)"
      ]
    },
    {
      "cell_type": "code",
      "execution_count": null,
      "metadata": {
        "id": "BtbzMk1lP1LO"
      },
      "outputs": [],
      "source": [
        "print(\"Files that start with 'file':\", known_files)"
      ]
    },
    {
      "cell_type": "markdown",
      "metadata": {
        "id": "Olw8eSDYQ5pb"
      },
      "source": [
        "# The Python standard library\n"
      ]
    },
    {
      "cell_type": "code",
      "execution_count": null,
      "metadata": {
        "id": "rH5wIx7qQ-Yr"
      },
      "outputs": [],
      "source": [
        "import math\n",
        "\n",
        "print(math.degrees(math.pi/2))"
      ]
    },
    {
      "cell_type": "code",
      "execution_count": null,
      "metadata": {
        "id": "5mTrSGLWRYwD"
      },
      "outputs": [],
      "source": [
        "from math import pi, degrees\n",
        "print (degrees(pi/4))"
      ]
    },
    {
      "cell_type": "code",
      "execution_count": null,
      "metadata": {
        "id": "TixnLZO9RlKn"
      },
      "outputs": [],
      "source": [
        "from datetime import datetime, timedelta\n",
        "\n",
        "date = datetime.now()\n",
        "print(date)"
      ]
    },
    {
      "cell_type": "code",
      "execution_count": null,
      "metadata": {
        "id": "O_yOWDPVRy_g"
      },
      "outputs": [],
      "source": [
        "cal_date = date - timedelta(days=1)\n",
        "print(cal_date)"
      ]
    },
    {
      "cell_type": "code",
      "execution_count": null,
      "metadata": {
        "id": "FITyfanBSIt7"
      },
      "outputs": [],
      "source": [
        "updated_date = cal_date.strftime('%Y-%m-%d')\n",
        "print(updated_date)"
      ]
    },
    {
      "cell_type": "markdown",
      "metadata": {
        "id": "y-rFmFCVSdSO"
      },
      "source": [
        "# Lambda Funcions"
      ]
    },
    {
      "cell_type": "code",
      "execution_count": null,
      "metadata": {
        "id": "anySvTDNSfm0"
      },
      "outputs": [],
      "source": [
        "double = lambda x: x*2\n",
        "print(double(5))"
      ]
    },
    {
      "cell_type": "code",
      "execution_count": null,
      "metadata": {
        "id": "egdBmZ7RTeXu"
      },
      "outputs": [],
      "source": [
        "powerf = power_to(3)\n",
        "\n",
        "print(powerf(4))"
      ]
    },
    {
      "cell_type": "code",
      "execution_count": null,
      "metadata": {
        "id": "ro86LLyHS0Ex"
      },
      "outputs": [],
      "source": [
        "def power_to(n):\n",
        "  return lambda a: math.pow(a,n)\n",
        "\n",
        "print(power_to(4))"
      ]
    }
  ],
  "metadata": {
    "colab": {
      "provenance": []
    },
    "kernelspec": {
      "display_name": "Python 3",
      "name": "python3"
    },
    "language_info": {
      "name": "python"
    }
  },
  "nbformat": 4,
  "nbformat_minor": 0
}
