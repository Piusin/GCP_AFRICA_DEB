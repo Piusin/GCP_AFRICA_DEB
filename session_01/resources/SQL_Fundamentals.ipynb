{
  "cells": [
    {
      "cell_type": "code",
      "execution_count": 48,
      "metadata": {
        "colab": {
          "base_uri": "https://localhost:8080/"
        },
        "id": "BNyBWX5is2aj",
        "outputId": "c0cef857-8d95-4776-dd1c-90d7e44a2e1a"
      },
      "outputs": [
        {
          "name": "stdout",
          "output_type": "stream",
          "text": [
            "\r0% [Working]\r            \rHit:1 https://developer.download.nvidia.com/compute/cuda/repos/ubuntu2204/x86_64  InRelease\n",
            "\r0% [Connecting to archive.ubuntu.com (185.125.190.39)] [Waiting for headers] [W\r                                                                               \rHit:2 https://cloud.r-project.org/bin/linux/ubuntu jammy-cran40/ InRelease\n",
            "Hit:3 http://security.ubuntu.com/ubuntu jammy-security InRelease\n",
            "Hit:4 http://archive.ubuntu.com/ubuntu jammy InRelease\n",
            "Hit:5 http://archive.ubuntu.com/ubuntu jammy-updates InRelease\n",
            "Hit:6 http://archive.ubuntu.com/ubuntu jammy-backports InRelease\n",
            "Hit:7 https://ppa.launchpadcontent.net/c2d4u.team/c2d4u4.0+/ubuntu jammy InRelease\n",
            "Hit:8 https://ppa.launchpadcontent.net/deadsnakes/ppa/ubuntu jammy InRelease\n",
            "Hit:9 https://ppa.launchpadcontent.net/graphics-drivers/ppa/ubuntu jammy InRelease\n",
            "Hit:10 https://ppa.launchpadcontent.net/ubuntugis/ppa/ubuntu jammy InRelease\n",
            "Reading package lists... Done\n",
            "Reading package lists... Done\n",
            "Building dependency tree... Done\n",
            "Reading state information... Done\n",
            "postgresql is already the newest version (14+238).\n",
            "postgresql-contrib is already the newest version (14+238).\n",
            "0 upgraded, 0 newly installed, 0 to remove and 20 not upgraded.\n",
            "Requirement already satisfied: psycopg2 in /usr/local/lib/python3.10/dist-packages (2.9.7)\n"
          ]
        }
      ],
      "source": [
        "!apt-get update -y\n",
        "!apt-get install postgresql postgresql-contrib -y\n",
        "!pip install psycopg2"
      ]
    },
    {
      "cell_type": "code",
      "execution_count": 49,
      "metadata": {
        "colab": {
          "base_uri": "https://localhost:8080/"
        },
        "id": "_ktR3E8gs46w",
        "outputId": "77bea807-db02-4b98-8082-9cd877338ada"
      },
      "outputs": [
        {
          "name": "stdout",
          "output_type": "stream",
          "text": [
            " * Starting PostgreSQL 14 database server\n",
            "   ...done.\n",
            "createdb: error: database creation failed: ERROR:  database \"mydb\" already exists\n"
          ]
        }
      ],
      "source": [
        "!service postgresql start\n",
        "!sudo -u postgres createdb mydb"
      ]
    },
    {
      "cell_type": "code",
      "execution_count": 50,
      "metadata": {
        "id": "c7jhaL2RtD-q"
      },
      "outputs": [],
      "source": [
        "import psycopg2"
      ]
    },
    {
      "cell_type": "code",
      "execution_count": 66,
      "metadata": {
        "id": "LnxXyL9CwC3i"
      },
      "outputs": [],
      "source": [
        "# Replace these placeholders with your actual database information\n",
        "db_host = \"34.132.74.124\"\n",
        "db_name = \"dvdrental\"\n",
        "db_user = \"postgres\"\n",
        "db_password = \"DataBootcamp2023\"\n",
        "\n",
        "# Establish a connection to the database\n",
        "conn = psycopg2.connect(\n",
        "    host=db_host,\n",
        "    dbname=db_name,\n",
        "    user=db_user,\n",
        "    password=db_password\n",
        ")\n",
        "\n",
        "# Create a cursor to execute SQL queries\n",
        "cur = conn.cursor()"
      ]
    },
    {
      "cell_type": "code",
      "execution_count": 67,
      "metadata": {
        "colab": {
          "base_uri": "https://localhost:8080/"
        },
        "id": "f9aR8xRrvBnm",
        "outputId": "dcb0495c-32e5-4ef6-83f3-cf7d7eddbf44"
      },
      "outputs": [
        {
          "name": "stdout",
          "output_type": "stream",
          "text": [
            "(1, 'Action', datetime.datetime(2006, 2, 15, 9, 46, 27))\n",
            "(2, 'Animation', datetime.datetime(2006, 2, 15, 9, 46, 27))\n",
            "(3, 'Children', datetime.datetime(2006, 2, 15, 9, 46, 27))\n",
            "(4, 'Classics', datetime.datetime(2006, 2, 15, 9, 46, 27))\n",
            "(5, 'Comedy', datetime.datetime(2006, 2, 15, 9, 46, 27))\n",
            "(6, 'Documentary', datetime.datetime(2006, 2, 15, 9, 46, 27))\n",
            "(7, 'Drama', datetime.datetime(2006, 2, 15, 9, 46, 27))\n",
            "(8, 'Family', datetime.datetime(2006, 2, 15, 9, 46, 27))\n",
            "(9, 'Foreign', datetime.datetime(2006, 2, 15, 9, 46, 27))\n",
            "(10, 'Games', datetime.datetime(2006, 2, 15, 9, 46, 27))\n",
            "(11, 'Horror', datetime.datetime(2006, 2, 15, 9, 46, 27))\n",
            "(12, 'Music', datetime.datetime(2006, 2, 15, 9, 46, 27))\n",
            "(13, 'New', datetime.datetime(2006, 2, 15, 9, 46, 27))\n",
            "(14, 'Sci-Fi', datetime.datetime(2006, 2, 15, 9, 46, 27))\n",
            "(15, 'Sports', datetime.datetime(2006, 2, 15, 9, 46, 27))\n",
            "(16, 'Travel', datetime.datetime(2006, 2, 15, 9, 46, 27))\n"
          ]
        }
      ],
      "source": [
        "# Example query\n",
        "query = \"SELECT * FROM category;\"\n",
        "cur.execute(query)\n",
        "\n",
        "# Fetch and print results\n",
        "results = cur.fetchall()\n",
        "for row in results:\n",
        "    print(row)"
      ]
    },
    {
      "cell_type": "code",
      "execution_count": 68,
      "metadata": {
        "id": "eDn_Y5aAycFP"
      },
      "outputs": [],
      "source": [
        "# Close the cursor and connection\n",
        "cur.close()\n",
        "conn.close()"
      ]
    }
  ],
  "metadata": {
    "colab": {
      "provenance": []
    },
    "kernelspec": {
      "display_name": "Python 3",
      "name": "python3"
    },
    "language_info": {
      "name": "python"
    }
  },
  "nbformat": 4,
  "nbformat_minor": 0
}
